{
  "cells": [
    {
      "cell_type": "code",
      "execution_count": 1,
      "metadata": {
        "id": "A5n9N1qu9lqQ"
      },
      "outputs": [],
      "source": [
        "import os\n",
        "import cv2\n",
        "from PIL import Image\n",
        "import skimage.io as io\n",
        "import numpy as np\n",
        "from matplotlib import pyplot as plt\n",
        "%matplotlib inline\n",
        "from skimage.filters import threshold_otsu\n",
        "from skimage.morphology import erosion, dilation\n",
        "import seaborn as sns\n",
        "from sklearn.linear_model import LogisticRegression\n",
        "from sklearn.svm import SVC\n",
        "from sklearn import svm\n",
        "from sklearn.ensemble import RandomForestClassifier\n",
        "from sklearn.model_selection import train_test_split\n",
        "from sklearn.metrics import confusion_matrix, classification_report\n",
        "from skimage.feature import hog\n",
        "from sklearn.model_selection import GridSearchCV\n",
        "from keras.models import Sequential\n",
        "from keras.layers import Conv2D, MaxPooling2D, Flatten, Dense\n",
        "from sklearn.metrics import accuracy_score, precision_score, recall_score, f1_score\n",
        "from sklearn.model_selection import train_test_split\n",
        "from PIL import Image\n",
        "from keras.utils import to_categorical\n",
        "import pandas as pd"
      ]
    },
    {
      "cell_type": "code",
      "execution_count": 3,
      "metadata": {
        "colab": {
          "base_uri": "https://localhost:8080/"
        },
        "id": "i3OnfUrA9pws",
        "outputId": "691c5982-f061-4618-8026-4fbd51b65cd8"
      },
      "outputs": [
        {
          "output_type": "stream",
          "name": "stdout",
          "text": [
            "Mounted at /content/drive\n"
          ]
        }
      ],
      "source": [
        "from google.colab import drive\n",
        "drive.mount('/content/drive', force_remount=True)"
      ]
    },
    {
      "cell_type": "markdown",
      "source": [
        "# Image Preprocessing"
      ],
      "metadata": {
        "id": "BJuLjr7LYATB"
      }
    },
    {
      "cell_type": "markdown",
      "source": [
        "Our first task is to split the combined images into 5 parts containing single letters. We apply image preprocessing after the split as the function parameters which we use can be different for different parts of the same image depending on the noise concentration or the contrast or the pixel intensities of that part."
      ],
      "metadata": {
        "id": "lop-jvkzX9S4"
      }
    },
    {
      "cell_type": "code",
      "execution_count": 2,
      "metadata": {
        "id": "JiW0UDEOHBHs"
      },
      "outputs": [],
      "source": [
        "def split(image):\n",
        "    # Get the dimensions of the image\n",
        "    width, height = image.size\n",
        "\n",
        "    # Calculate the width and height of each part\n",
        "    part_width = width // 5\n",
        "    part_height = height\n",
        "\n",
        "    image_parts = []  #image_parts list which will contain the final parts after the split\n",
        "\n",
        "    # Divide the image into parts and append to image_parts list\n",
        "\n",
        "    for i in range(5):\n",
        "        # Calculate the coordinates for cropping each part\n",
        "        left = i * part_width\n",
        "        upper = 0\n",
        "        right = left + part_width\n",
        "        lower = part_height\n",
        "\n",
        "        # Crop the part from the image\n",
        "        part = image.crop((left, upper, right, lower))\n",
        "\n",
        "        # Append the part to the list\n",
        "        image_parts.append(part)\n",
        "\n",
        "    return image_parts"
      ]
    },
    {
      "cell_type": "markdown",
      "source": [
        "The following cell needs to be executed only once to create the samples_split folder which will contain the 5000 individual character images after the split.\n",
        "\n",
        "On observing the image name contains the letters in the image in order. So, after splitting we are saving the part names in the format -\n",
        "\n",
        "[ letter ][ image_name ].png"
      ],
      "metadata": {
        "id": "e-MMff65X3ao"
      }
    },
    {
      "cell_type": "code",
      "execution_count": 4,
      "metadata": {
        "id": "PcWK9FK_HH53"
      },
      "outputs": [],
      "source": [
        "\n",
        "images_folder = \"/content/drive/MyDrive/JPMC_CaseStudy/samples1000\"\n",
        "output_folder = \"/content/drive/MyDrive/JPMC_CaseStudy/samples_split\"\n",
        "\n",
        "\n",
        "os.makedirs(output_folder, exist_ok=True)\n",
        "\n",
        "# Preprocess each image and save in new directory\n",
        "for image_name in os.listdir(images_folder):\n",
        "    # Construct the full path to the image\n",
        "    image_path = os.path.join(images_folder, image_name)\n",
        "    image = Image.open(image_path)\n",
        "    image_parts = split(image)\n",
        "\n",
        "    for i,part in enumerate(image_parts):\n",
        "      part_name = os.path.basename(image_path)\n",
        "      part_name = part_name[i]+part_name\n",
        "      output_path = os.path.join(output_folder,part_name)\n",
        "      part.save(output_path)"
      ]
    },
    {
      "cell_type": "markdown",
      "source": [
        "Here we start defining the various image preprocessing functions that we have tried and tested to remove the noise and make the character more clear to improve our dataset.\n",
        "\n",
        "We are passing image object as the parameter in our functions and have to convert it to a numpy array to apply the preprocessing technique and then convert it back into an image object before returning it."
      ],
      "metadata": {
        "id": "rK33wy3gXwos"
      }
    },
    {
      "cell_type": "code",
      "execution_count": 5,
      "metadata": {
        "id": "ZQfYobGnWW2a"
      },
      "outputs": [],
      "source": [
        "def grayscale(image):\n",
        "    # Convert the image to grayscale: Reduces dimensionality and removes color\n",
        "    grayscale_image = image.convert('L')\n",
        "    return grayscale_image"
      ]
    },
    {
      "cell_type": "markdown",
      "source": [
        "## MORPHOLOGICAL OPERATIONS"
      ],
      "metadata": {
        "id": "NzKrC5NxXmrN"
      }
    },
    {
      "cell_type": "code",
      "execution_count": 6,
      "metadata": {
        "id": "YBOowuJnWhMv"
      },
      "outputs": [],
      "source": [
        "def erode(image):\n",
        "    # Convert image into NumPy array\n",
        "    image_array = np.array(image)\n",
        "    # Define the kernel for erosion\n",
        "    kernel = np.ones((3, 3), np.uint8)\n",
        "    # Perform image erosion\n",
        "    eroded_image = cv2.erode(image_array, kernel, iterations=3)\n",
        "    # Convert the NumPy array back to image object\n",
        "    eroded_image = Image.fromarray(eroded_image)\n",
        "    return eroded_image"
      ]
    },
    {
      "cell_type": "code",
      "execution_count": 7,
      "metadata": {
        "id": "Df3x30eBWknX"
      },
      "outputs": [],
      "source": [
        "# DILATION : Increases the size of object. Fills holes in the object if any.\n",
        "def dilate(image):\n",
        "    image_array = np.array(image)\n",
        "    # Define the kernel for erosion\n",
        "    kernel = np.ones((3, 3), np.uint8)\n",
        "    # Perform image dilation\n",
        "    dilated_image = cv2.dilate(image_array, kernel, iterations=2)\n",
        "    dilated_image = Image.fromarray(dilated_image)\n",
        "    return dilated_image"
      ]
    },
    {
      "cell_type": "code",
      "execution_count": 8,
      "metadata": {
        "id": "mot04eeMWmJb"
      },
      "outputs": [],
      "source": [
        "def opening(image):\n",
        "    image_array = np.array(image)\n",
        "    kernel = np.ones((3, 3), np.uint8)\n",
        "    opening = cv2.morphologyEx(image_array, cv2.MORPH_OPEN, kernel, iterations=2)\n",
        "    opened = Image.fromarray(opening)\n",
        "    return opened"
      ]
    },
    {
      "cell_type": "code",
      "execution_count": 9,
      "metadata": {
        "id": "p_ti9SpiWrOk"
      },
      "outputs": [],
      "source": [
        "def gaussian_blur(image):\n",
        "    image_array = np.array(image)\n",
        "    # Apply Gaussian blur\n",
        "    blurred_image = cv2.GaussianBlur(image_array, (11,11), 0)\n",
        "    blurred_image = Image.fromarray(blurred_image)\n",
        "    return blurred_image"
      ]
    },
    {
      "cell_type": "code",
      "execution_count": 10,
      "metadata": {
        "id": "MLCFun7wWuXd"
      },
      "outputs": [],
      "source": [
        "def median_filter(image):\n",
        "    image_array = np.array(image)\n",
        "    # Apply median filtering\n",
        "    filtered_image = cv2.medianBlur(image_array, 9)\n",
        "    filtered_image = Image.fromarray(filtered_image)\n",
        "    return filtered_image"
      ]
    },
    {
      "cell_type": "code",
      "execution_count": 11,
      "metadata": {
        "id": "LVn9PKSCWwPq"
      },
      "outputs": [],
      "source": [
        "def bilateral_filter(image):\n",
        "    image_array = np.array(image)\n",
        "    filtered_image = cv2.bilateralFilter(image_array, 9, 75, 75)\n",
        "    filtered_image = Image.fromarray(filtered_image)\n",
        "    return filtered_image"
      ]
    },
    {
      "cell_type": "code",
      "execution_count": 12,
      "metadata": {
        "id": "Y2-Vt-zlW1Mh"
      },
      "outputs": [],
      "source": [
        "def threshold(image):\n",
        "    image_array = np.array(image)\n",
        "    # Apply binary thresholding\n",
        "    _, thresholded_image = cv2.threshold(image_array, 200, 255, cv2.THRESH_BINARY)\n",
        "    thresholded_image = Image.fromarray(thresholded_image)\n",
        "    return thresholded_image"
      ]
    },
    {
      "cell_type": "code",
      "execution_count": 13,
      "metadata": {
        "id": "7fh4hlcjW42D"
      },
      "outputs": [],
      "source": [
        "def adaptive_threshold(image):\n",
        "    image_array = np.array(image)\n",
        "    thresholded_image = cv2.adaptiveThreshold(image_array, 255, cv2.ADAPTIVE_THRESH_MEAN_C, cv2.THRESH_BINARY, 13, 2)\n",
        "    thresholded_image = Image.fromarray(thresholded_image)\n",
        "    return thresholded_image"
      ]
    },
    {
      "cell_type": "code",
      "execution_count": 14,
      "metadata": {
        "id": "RgRXeAjBXGWT"
      },
      "outputs": [],
      "source": [
        "def otsu_threshold(image):\n",
        "    image_array = np.array(image)\n",
        "    _, otsu_thresholded_image = cv2.threshold(image_array, 0, 255, cv2.THRESH_BINARY + cv2.THRESH_OTSU)\n",
        "    otsu_thresholded_image = Image.fromarray(otsu_thresholded_image)\n",
        "    return otsu_thresholded_image"
      ]
    },
    {
      "cell_type": "code",
      "execution_count": 15,
      "metadata": {
        "id": "Gk6n6xgqXNTu"
      },
      "outputs": [],
      "source": [
        "def denoise(image):\n",
        "    image_array = np.array(image)\n",
        "    # Apply fast NlMeans Denoising\n",
        "    denoised_array = cv2.fastNlMeansDenoising(image_array, None, 10, 10, 7)\n",
        "    denoised_image = Image.fromarray(denoised_array)\n",
        "    return denoised_image"
      ]
    },
    {
      "cell_type": "code",
      "execution_count": 16,
      "metadata": {
        "id": "coGjkDN8XO40"
      },
      "outputs": [],
      "source": [
        "def histogram_equalization(image):\n",
        "    image_array = np.array(image)\n",
        "    # Apply histogram equalization\n",
        "    equalized_image = cv2.equalizeHist(image_array)\n",
        "    equalized_image = Image.fromarray(equalized_image)\n",
        "    return equalized_image"
      ]
    },
    {
      "cell_type": "code",
      "execution_count": 17,
      "metadata": {
        "id": "Zl7OjXhgdx3Y"
      },
      "outputs": [],
      "source": [
        "def resize(image):\n",
        "    image_array = np.array(image)\n",
        "    # Apply histogram equalization\n",
        "    resized_array = cv2.resize(image_array, (64, 128), interpolation=cv2.INTER_AREA)\n",
        "    resized_image = Image.fromarray(resized_array)\n",
        "    return resized_image"
      ]
    },
    {
      "cell_type": "code",
      "execution_count": 18,
      "metadata": {
        "id": "JG4r7MCjd4-s"
      },
      "outputs": [],
      "source": [
        "def deskew(image):\n",
        "    # Convert image to grayscale\n",
        "    image_gray = image\n",
        "    image_array = np.array(image_gray)\n",
        "    # Apply thresholding to create binary image\n",
        "    _, thresholded_image = cv2.threshold(image_array, 0, 255, cv2.THRESH_BINARY_INV + cv2.THRESH_OTSU)\n",
        "    # Find contours in the binary image\n",
        "    contours, _ = cv2.findContours(thresholded_image, cv2.RETR_EXTERNAL, cv2.CHAIN_APPROX_SIMPLE)\n",
        "    # Sort contours by their area in descending order\n",
        "    contours = sorted(contours, key=cv2.contourArea, reverse=True)[:5]\n",
        "    # Deskew each contour\n",
        "    deskewed_images = []\n",
        "    for contour in contours:\n",
        "        # Find the minimum area rectangle enclosing the contour\n",
        "        rect = cv2.minAreaRect(contour)\n",
        "        # Calculate the angle of rotation\n",
        "        angle = rect[2]\n",
        "        # Rotate the image to deskew it\n",
        "        rotated_image = Image.fromarray(image_array)\n",
        "        rotated_image = rotated_image.rotate(-angle)\n",
        "        deskewed_images.append(np.array(rotated_image))\n",
        "    return deskewed_images"
      ]
    },
    {
      "cell_type": "code",
      "execution_count": 19,
      "metadata": {
        "colab": {
          "base_uri": "https://localhost:8080/",
          "height": 407
        },
        "id": "DR4fU9q4d9WX",
        "outputId": "46e43fbd-3479-4b85-88c0-d25c2df0d0ea"
      },
      "outputs": [
        {
          "output_type": "display_data",
          "data": {
            "text/plain": [
              "<Figure size 100x400 with 2 Axes>"
            ],
            "image/png": "[encoded data removed]"
          },
          "metadata": {}
        }
      ],
      "source": [
        "def preprocess(img):\n",
        "    img = resize(img)\n",
        "    img = grayscale(img)\n",
        "    img = histogram_equalization(img)\n",
        "    img = dilate(img)\n",
        "    img = denoise(img)\n",
        "    img = median_filter(img)\n",
        "    return img\n",
        "\n",
        "image_path = \"/content/drive/MyDrive/JPMC_CaseStudy/samples_split/pfaqep.png\"   # Sample image\n",
        "image = Image.open(image_path)\n",
        "preprocessed_image = preprocess(image)\n",
        "\n",
        "# Plot the original and the binary image\n",
        "fig, (ax1, ax2) = plt.subplots(2, 1, figsize=(1, 4))\n",
        "ax1.imshow(image, 'gray', aspect='auto')\n",
        "ax1.set_title('Original image')\n",
        "ax1.set_xticks([])\n",
        "ax1.set_yticks([])\n",
        "ax2.imshow(preprocessed_image, 'gray', aspect='auto')\n",
        "ax2.set_title('Preprocessed image')\n",
        "ax2.set_xticks([])\n",
        "ax2.set_yticks([])\n",
        "plt.tight_layout()\n",
        "plt.show()"
      ]
    },
    {
      "cell_type": "markdown",
      "source": [
        "# Machine Learning"
      ],
      "metadata": {
        "id": "xD2GnyNaXPoo"
      }
    },
    {
      "cell_type": "markdown",
      "source": [
        "Now, we begin the Machine Learning part.\n",
        "\n",
        "We have created functions to extract features, load our images and then prepare a features dataset for all the images."
      ],
      "metadata": {
        "id": "Msqs4crQXSpP"
      }
    },
    {
      "cell_type": "code",
      "execution_count": 20,
      "metadata": {
        "id": "Po0G2wxleFD5"
      },
      "outputs": [],
      "source": [
        "def extract_features(image):\n",
        "    # Extract HOG features\n",
        "    features = hog(image, orientations=9, pixels_per_cell=(8, 8), cells_per_block=(1, 1))\n",
        "    return features"
      ]
    },
    {
      "cell_type": "code",
      "execution_count": 21,
      "metadata": {
        "id": "yqLEeXQNeG3r"
      },
      "outputs": [],
      "source": [
        "def load_images(folder_path):\n",
        "    images = []\n",
        "    labels = []\n",
        "    number = [0]*26\n",
        "    for part_name in os.listdir(folder_path):\n",
        "        image_path = os.path.join(folder_path, part_name)\n",
        "        image = Image.open(image_path)\n",
        "        part_name = os.path.basename(image_path)\n",
        "        number[ord(part_name[0])-ord('a')]+=1\n",
        "        image = preprocess(image)\n",
        "        images.append(image)\n",
        "\n",
        "        labels.append(part_name[0])  # Part name format is [label][part_name].png\n",
        "    return images, labels, number"
      ]
    },
    {
      "cell_type": "code",
      "execution_count": 22,
      "metadata": {
        "id": "xA8gVpJdeKrK"
      },
      "outputs": [],
      "source": [
        "def prepare_data(images, labels):\n",
        "    features = []\n",
        "\n",
        "    for image in images:\n",
        "        features.append(extract_features(image))\n",
        "\n",
        "    X = np.array(features,dtype=object)\n",
        "    y = np.array(labels)\n",
        "\n",
        "    return X, y"
      ]
    },
    {
      "cell_type": "code",
      "execution_count": 23,
      "metadata": {
        "id": "cy2Mvg-BeOO2"
      },
      "outputs": [],
      "source": [
        "# Load and prepare the data\n",
        "folder_path = \"/content/drive/MyDrive/JPMC_CaseStudy/samples_split\"\n",
        "\n",
        "images, labels, number = load_images(folder_path)\n",
        "X, y = prepare_data(images, labels)\n",
        "\n",
        "# Split the data into train and test sets\n",
        "X_train, X_test, y_train, y_test = train_test_split(X, y, test_size=0.2, random_state=80)"
      ]
    },
    {
      "cell_type": "code",
      "execution_count": 24,
      "metadata": {
        "id": "mtVmE5DmfPvA",
        "colab": {
          "base_uri": "https://localhost:8080/"
        },
        "outputId": "4e9df90a-989b-48b5-cdab-85ec1d0881a7"
      },
      "outputs": [
        {
          "output_type": "stream",
          "name": "stdout",
          "text": [
            "[193, 185, 191, 174, 178, 182, 170, 160, 172, 192, 167, 190, 196, 187, 186, 173, 168, 164, 197, 168, 180, 167, 175, 192, 187, 200]\n"
          ]
        }
      ],
      "source": [
        "print(number)"
      ]
    },
    {
      "cell_type": "code",
      "execution_count": 25,
      "metadata": {
        "id": "BsIcY9nVfUQ8",
        "colab": {
          "base_uri": "https://localhost:8080/",
          "height": 447
        },
        "outputId": "332006e9-68f5-4574-dad1-17fdbbbfc945"
      },
      "outputs": [
        {
          "output_type": "execute_result",
          "data": {
            "text/plain": [
              "<Axes: ylabel='count'>"
            ]
          },
          "metadata": {},
          "execution_count": 25
        },
        {
          "output_type": "display_data",
          "data": {
            "text/plain": [
              "<Figure size 640x480 with 1 Axes>"
            ],
            "image/png": "[encoded data removed]"
          },
          "metadata": {}
        }
      ],
      "source": [
        "class_labels = ['a', 'b', 'c', 'd', 'e', 'f', 'g', 'h', 'i', 'j', 'k', 'l', 'm', 'n', 'o', 'p', 'q', 'r', 's', 't', 'u', 'v', 'w', 'x', 'y', 'z']\n",
        "sns.countplot(x=labels, order=class_labels)"
      ]
    },
    {
      "cell_type": "code",
      "execution_count": 26,
      "metadata": {
        "id": "WNbYHrO8gTjz",
        "colab": {
          "base_uri": "https://localhost:8080/"
        },
        "outputId": "6361b48f-042c-4cb9-8aad-ae0982040b09"
      },
      "outputs": [
        {
          "output_type": "stream",
          "name": "stderr",
          "text": [
            "/usr/local/lib/python3.10/dist-packages/sklearn/linear_model/_logistic.py:458: ConvergenceWarning: lbfgs failed to converge (status=1):\n",
            "STOP: TOTAL NO. of ITERATIONS REACHED LIMIT.\n",
            "\n",
            "Increase the number of iterations (max_iter) or scale the data as shown in:\n",
            "    https://scikit-learn.org/stable/modules/preprocessing.html\n",
            "Please also refer to the documentation for alternative solver options:\n",
            "    https://scikit-learn.org/stable/modules/linear_model.html#logistic-regression\n",
            "  n_iter_i = _check_optimize_result(\n"
          ]
        },
        {
          "output_type": "stream",
          "name": "stdout",
          "text": [
            "LR Accuracy: 74.76038338658148\n",
            "LR Precision: 0.7476038338658147\n",
            "LR Recall: 0.7476038338658147\n",
            "LR F1 score: 0.7476038338658146\n",
            "SVM Accuracy: 75.9318423855165\n",
            "SVM Precision: 0.759318423855165\n",
            "SVM Recall: 0.759318423855165\n",
            "SVM F1 score: 0.759318423855165\n",
            "RF Accuracy: 74.76038338658148\n",
            "RF Precision: 0.7476038338658147\n",
            "RF Recall: 0.7476038338658147\n",
            "RF F1 score: 0.7476038338658146\n"
          ]
        }
      ],
      "source": [
        "# Create and train the Logistic Regression classifier\n",
        "lrclf = LogisticRegression()\n",
        "lrclf.fit(X_train, y_train)\n",
        "y_pred = lrclf.predict(X_test)\n",
        "\n",
        "# Evaluate the Logistic Regression classifier\n",
        "lraccuracy = lrclf.score(X_test, y_test)\n",
        "print(\"LR Accuracy:\", 100*lraccuracy)\n",
        "precision = precision_score(y_test, y_pred, average='micro')\n",
        "print(\"LR Precision:\", precision)\n",
        "recall = recall_score(y_test, y_pred, average='micro')\n",
        "print(\"LR Recall:\", recall)\n",
        "f1 = f1_score(y_test, y_pred, average='micro')\n",
        "print(\"LR F1 score:\", f1)\n",
        "\n",
        "\n",
        "# Create and train the SVM classifier\n",
        "svmclf = SVC(kernel='linear')\n",
        "svmclf.fit(X_train, y_train)\n",
        "y_pred = svmclf.predict(X_test)\n",
        "# Evaluate the SVM classifier\n",
        "svmaccuracy = svmclf.score(X_test, y_test)\n",
        "print(\"SVM Accuracy:\", 100*svmaccuracy)\n",
        "precision = precision_score(y_test, y_pred, average='micro')\n",
        "print(\"SVM Precision:\", precision)\n",
        "recall = recall_score(y_test, y_pred, average='micro')\n",
        "print(\"SVM Recall:\", recall)\n",
        "f1 = f1_score(y_test, y_pred, average='micro')\n",
        "print(\"SVM F1 score:\", f1)\n",
        "\n",
        "# Create and train the Random Forest classifier\n",
        "rfclf = RandomForestClassifier(n_estimators=100)\n",
        "rfclf.fit(X_train, y_train)\n",
        "y_pred = rfclf.predict(X_test)\n",
        "# Evaluate the Random Forest classifier\n",
        "rfaccuracy = rfclf.score(X_test, y_test)\n",
        "print(\"RF Accuracy:\", 100*rfaccuracy)\n",
        "precision = precision_score(y_test, y_pred, average='micro')\n",
        "print(\"RF Precision:\", precision)\n",
        "recall = recall_score(y_test, y_pred, average='micro')\n",
        "print(\"RF Recall:\", recall)\n",
        "f1 = f1_score(y_test, y_pred, average='micro')\n",
        "print(\"RF F1 score:\", f1)"
      ]
    },
    {
      "cell_type": "markdown",
      "source": [
        "As we find that SVM is the best classifier among the three. We now implement GridSearchCV to find the best hyperparameter combination to maximise accuracy."
      ],
      "metadata": {
        "id": "5lULMmW8XGkr"
      }
    },
    {
      "cell_type": "code",
      "execution_count": 27,
      "metadata": {
        "id": "sxRH6HXohyGC",
        "colab": {
          "base_uri": "https://localhost:8080/"
        },
        "outputId": "1ea27b1f-cec2-4a21-b7cc-b93dcff712c5"
      },
      "outputs": [
        {
          "output_type": "stream",
          "name": "stdout",
          "text": [
            "0.7997870074547391\n"
          ]
        }
      ],
      "source": [
        "# Create an SVM classifier\n",
        "svm_classifier = svm.SVC()\n",
        "\n",
        "# Define the hyperparameters to tune and their possible values\n",
        "param_grid = {\n",
        "    'C': [0.1, 1, 10],\n",
        "    'degree': [2, 3, 4],\n",
        "    'coef0': [0.0, 0.5, 1.0]\n",
        "}\n",
        "\n",
        "# Perform grid search cross-validation\n",
        "grid_search = GridSearchCV(svm_classifier, param_grid, cv=5)\n",
        "grid_search.fit(X_train, y_train)\n",
        "\n",
        "# Retrieve the best hyperparameters\n",
        "best_params = grid_search.best_params_\n",
        "\n",
        "# Train the SVM with the best hyperparameters\n",
        "best_svm = svm.SVC(**best_params)\n",
        "best_svm.fit(X_train, y_train)\n",
        "\n",
        "accuracy = best_svm.score(X_test, y_test)\n",
        "print(accuracy)"
      ]
    },
    {
      "cell_type": "code",
      "execution_count": 28,
      "metadata": {
        "id": "T0LcbDHGhz5N",
        "colab": {
          "base_uri": "https://localhost:8080/"
        },
        "outputId": "46d3f3cf-3b0a-4d5f-ac0a-a496bf0ae6fa"
      },
      "outputs": [
        {
          "output_type": "stream",
          "name": "stdout",
          "text": [
            "svmAccuracy: 79.33972310969116\n"
          ]
        }
      ],
      "source": [
        "svmclf = SVC(kernel='poly', C=10, degree=2, coef0=0.0)\n",
        "svmclf.fit(X_train, y_train)\n",
        "svmaccuracy = svmclf.score(X_test, y_test)\n",
        "print(\"svmAccuracy:\", 100*svmaccuracy)"
      ]
    },
    {
      "cell_type": "code",
      "execution_count": 29,
      "metadata": {
        "id": "VQs1sHnNoOI5",
        "colab": {
          "base_uri": "https://localhost:8080/"
        },
        "outputId": "e01684ff-fec5-4560-ec6c-7a78653f99a4"
      },
      "outputs": [
        {
          "output_type": "stream",
          "name": "stdout",
          "text": [
            "              precision    recall  f1-score   support\n",
            "\n",
            "           a       0.82      0.93      0.87        29\n",
            "           b       0.66      0.81      0.73        36\n",
            "           c       0.79      0.76      0.77        29\n",
            "           d       0.79      0.68      0.73        28\n",
            "           e       0.81      0.97      0.88        31\n",
            "           f       0.68      0.76      0.72        51\n",
            "           g       0.91      0.89      0.90        36\n",
            "           h       0.75      0.59      0.66        41\n",
            "           i       0.69      0.77      0.73        35\n",
            "           j       0.78      0.93      0.85        42\n",
            "           k       0.87      0.68      0.76        40\n",
            "           l       0.62      0.71      0.66        34\n",
            "           m       0.80      0.88      0.84        32\n",
            "           n       0.91      0.84      0.88        38\n",
            "           o       0.83      0.89      0.86        44\n",
            "           p       0.91      0.86      0.88        35\n",
            "           q       0.93      0.89      0.91        28\n",
            "           r       0.83      0.89      0.86        27\n",
            "           s       0.97      0.83      0.90        47\n",
            "           t       0.66      0.63      0.64        30\n",
            "           u       0.79      0.83      0.81        36\n",
            "           v       0.55      0.70      0.62        30\n",
            "           w       0.89      0.81      0.85        31\n",
            "           x       0.78      0.71      0.74        49\n",
            "           y       0.96      0.69      0.81        36\n",
            "           z       0.85      0.77      0.81        44\n",
            "\n",
            "    accuracy                           0.79       939\n",
            "   macro avg       0.80      0.80      0.79       939\n",
            "weighted avg       0.80      0.79      0.79       939\n",
            "\n"
          ]
        }
      ],
      "source": [
        "y_pred = svmclf.predict(X_test)\n",
        "print(classification_report(y_test, y_pred))"
      ]
    },
    {
      "cell_type": "code",
      "execution_count": 30,
      "metadata": {
        "id": "RXA0azx_oYPY",
        "colab": {
          "base_uri": "https://localhost:8080/",
          "height": 923
        },
        "outputId": "ef85cd21-1062-4ffd-c2b0-7cb73a1ee438"
      },
      "outputs": [
        {
          "output_type": "display_data",
          "data": {
            "text/plain": [
              "<Figure size 640x480 with 2 Axes>"
            ],
            "image/png": "[encoded data removed]"
          },
          "metadata": {}
        },
        {
          "output_type": "stream",
          "name": "stdout",
          "text": [
            "a: 0.93\n",
            "b: 0.81\n",
            "c: 0.76\n",
            "d: 0.68\n",
            "e: 0.97\n",
            "f: 0.76\n",
            "g: 0.89\n",
            "h: 0.59\n",
            "i: 0.77\n",
            "j: 0.93\n",
            "k: 0.68\n",
            "l: 0.71\n",
            "m: 0.88\n",
            "n: 0.84\n",
            "o: 0.89\n",
            "p: 0.86\n",
            "q: 0.89\n",
            "r: 0.89\n",
            "s: 0.83\n",
            "t: 0.63\n",
            "u: 0.83\n",
            "v: 0.70\n",
            "w: 0.81\n",
            "x: 0.71\n",
            "y: 0.69\n",
            "z: 0.77\n"
          ]
        }
      ],
      "source": [
        "# Generate confusion matrix\n",
        "cm = confusion_matrix(y_test, y_pred)\n",
        "\n",
        "# Define class labels\n",
        "class_labels = ['a', 'b', 'c', 'd', 'e', 'f', 'g', 'h', 'i', 'j', 'k', 'l', 'm', 'n', 'o', 'p', 'q', 'r', 's', 't', 'u', 'v', 'w', 'x', 'y', 'z']\n",
        "\n",
        "# Create a heatmap using seaborn\n",
        "sns.heatmap(cm, annot=True, cmap='Blues', xticklabels=class_labels, yticklabels=class_labels)\n",
        "\n",
        "# Add labels and title\n",
        "plt.xlabel('Predicted Labels')\n",
        "plt.ylabel('True Labels')\n",
        "plt.title('Confusion Matrix')\n",
        "\n",
        "# Display the plot\n",
        "plt.show()\n",
        "\n",
        "# Print accuracies for each label\n",
        "accuracies = np.diag(cm) / cm.sum(axis=1)\n",
        "for i, accuracy in enumerate(accuracies):\n",
        "    print(f\"{class_labels[i]}: {accuracy:.2f}\")"
      ]
    },
    {
      "cell_type": "markdown",
      "source": [
        "Support Vector Machine (SVM) classifier yields the best accuracy on the validation set. Accuracy is the best metric to compare the algorithms as our data is almost balanced on the classes (alphabets). Other metrics such as precision, recall and F1 score are used for different data sets which may be imbalanced.\n",
        "\n",
        "I ran a GridSearchCV on the model by making a standard parameter grid. We get the best ones among that from there and we tried to tweak them manually after that by changing values at intervals and found that it is the best possible combination.\n",
        "\n",
        "C determines the penalty for misclassifications made by the SVM during training. A smaller value of C allows for a larger margin, potentially resulting in a simpler decision boundary but with the risk of misclassifying some training examples. On the other hand, a larger value of C puts a higher penalty on misclassifications, leading to a smaller margin and potentially a more complex decision boundary.\n",
        "\n",
        "In the model increasing the value of C after 9-10 didnt have much of an effect on our accurracy as it becomes a high enough penalty on the misclassifications. Low values of C drastically reduced the accuracy.\n",
        "\n",
        "The degree parameter controls the flexibility or complexity of the decision boundary. It determines the degree of the polynomial used in the kernel function. A higher degree allows the SVM to capture more complex relationships between the data points, potentially leading to a more flexible decision boundary that can fit the training data more closely. However, using a very high degree can also increase the risk of overfitting, where the model may not generalize well to unseen data.\n",
        "\n",
        "When using a linear kernel, the SVM learns a linear decision boundary represented by a hyperplane. The coef_ attribute returns the coefficients of this hyperplane. These coefficients indicate the importance or weight assigned to each feature in the decision-making process.\n",
        "\n",
        "h is at times getting confused and read b. Similarly x is predicted as either f or I. t is at times predicted as c, f and l. v is incorrectly predicted as f. d is incorrectly predicted as a."
      ],
      "metadata": {
        "id": "slhz4VjXW1_u"
      }
    },
    {
      "cell_type": "markdown",
      "source": [
        "# Another Approach"
      ],
      "metadata": {
        "id": "UlqDDmu8W3vK"
      }
    },
    {
      "cell_type": "code",
      "execution_count": 31,
      "metadata": {
        "id": "-1v4e7IEqWoO"
      },
      "outputs": [],
      "source": [
        "# Another alternate algortithm: CNN\n",
        "\n",
        "# Loading images\n",
        "def load_images(folder_path):\n",
        "    images = []\n",
        "    labels = []\n",
        "\n",
        "    for filename in os.listdir(folder_path):\n",
        "        if filename.endswith('.png'):\n",
        "            image_path = os.path.join(folder_path, filename)\n",
        "            label = ord(filename[0]) - ord('a')  # Convert alphabet label to number\n",
        "\n",
        "            image = Image.open(image_path)\n",
        "            image = preprocess(image)\n",
        "            images.append(image)\n",
        "            labels.append(label)\n",
        "\n",
        "    images = np.array(images)\n",
        "    labels = np.array(labels)\n",
        "\n",
        "    return images, labels"
      ]
    },
    {
      "cell_type": "code",
      "execution_count": null,
      "metadata": {
        "id": "2J_C75R-qgvY",
        "colab": {
          "base_uri": "https://localhost:8080/"
        },
        "outputId": "e57bba10-7b8c-4092-c03c-c9a9e1d84284"
      },
      "outputs": [
        {
          "output_type": "stream",
          "name": "stdout",
          "text": [
            "Epoch 1/10\n",
            "118/118 [==============================] - 44s 364ms/step - loss: 2.9457 - accuracy: 0.1595 - val_loss: 2.2523 - val_accuracy: 0.3589\n",
            "Epoch 2/10\n",
            "118/118 [==============================] - 39s 330ms/step - loss: 1.5951 - accuracy: 0.5382 - val_loss: 1.4926 - val_accuracy: 0.5623\n",
            "Epoch 3/10\n",
            "118/118 [==============================] - 44s 371ms/step - loss: 0.8454 - accuracy: 0.7505 - val_loss: 1.0506 - val_accuracy: 0.6794\n",
            "Epoch 4/10\n",
            "118/118 [==============================] - 42s 355ms/step - loss: 0.4340 - accuracy: 0.8706 - val_loss: 0.9837 - val_accuracy: 0.7050\n",
            "Epoch 5/10\n",
            "118/118 [==============================] - 40s 339ms/step - loss: 0.2124 - accuracy: 0.9414 - val_loss: 1.0140 - val_accuracy: 0.7071\n",
            "Epoch 6/10\n",
            "118/118 [==============================] - 42s 356ms/step - loss: 0.0951 - accuracy: 0.9808 - val_loss: 1.1514 - val_accuracy: 0.7210\n",
            "Epoch 7/10\n",
            "118/118 [==============================] - 41s 348ms/step - loss: 0.0428 - accuracy: 0.9931 - val_loss: 1.2412 - val_accuracy: 0.7263\n",
            "Epoch 8/10\n",
            "118/118 [==============================] - 43s 368ms/step - loss: 0.0194 - accuracy: 0.9976 - val_loss: 1.2731 - val_accuracy: 0.7359\n",
            "Epoch 9/10\n",
            "118/118 [==============================] - 44s 373ms/step - loss: 0.0075 - accuracy: 1.0000 - val_loss: 1.3438 - val_accuracy: 0.7412\n",
            "Epoch 10/10\n",
            "118/118 [==============================] - 40s 337ms/step - loss: 0.0031 - accuracy: 1.0000 - val_loss: 1.4174 - val_accuracy: 0.7338\n"
          ]
        }
      ],
      "source": [
        "# Specify the folder path containing the images\n",
        "folder_path = '/content/drive/MyDrive/JPMC_CaseStudy/samples_split'\n",
        "\n",
        "# Load the images and labels\n",
        "X, y = load_images(folder_path)\n",
        "\n",
        "# Split the data into training and testing sets\n",
        "X_train, X_test, y_train, y_test = train_test_split(X, y, test_size=0.2, random_state=742)\n",
        "\n",
        "# Normalize the pixel values to the range [0, 1]\n",
        "X_train = X_train.astype('float32') / 255.0\n",
        "X_test = X_test.astype('float32') / 255.0\n",
        "\n",
        "# Convert the labels to one-hot encoded vectors\n",
        "num_classes = len(np.unique(y))\n",
        "y_train = to_categorical(y_train, num_classes)\n",
        "y_test = to_categorical(y_test, num_classes)\n",
        "\n",
        "# Define the CNN model\n",
        "model = Sequential()\n",
        "\n",
        "# Adjust the input shape to match your data\n",
        "model.add(Conv2D(32, (3, 3), activation='relu', input_shape=(128, 64, 1)))\n",
        "\n",
        "model.add(MaxPooling2D((2, 2)))\n",
        "model.add(Conv2D(64, (3, 3), activation='relu'))\n",
        "model.add(MaxPooling2D((2, 2)))\n",
        "model.add(Flatten())\n",
        "model.add(Dense(64, activation='relu'))\n",
        "model.add(Dense(num_classes, activation='softmax'))\n",
        "\n",
        "# Compile the model\n",
        "model.compile(optimizer='adam', loss='categorical_crossentropy', metrics=['accuracy'])\n",
        "\n",
        "# Train the model\n",
        "model.fit(X_train, y_train, epochs=10, batch_size=32, validation_data=(X_test, y_test))\n",
        "\n",
        "# Evaluate the model on the test data\n",
        "loss, accuracy = model.evaluate(X_test, y_test)\n",
        "print(\"Accuracy:\", accuracy)"
      ]
    }
  ],
  "metadata": {
    "colab": {
      "provenance": []
    },
    "kernelspec": {
      "display_name": "Python 3",
      "name": "python3"
    },
    "language_info": {
      "name": "python"
    }
  },
  "nbformat": 4,
  "nbformat_minor": 0
}